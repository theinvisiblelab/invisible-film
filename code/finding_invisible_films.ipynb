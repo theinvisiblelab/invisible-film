{
 "cells": [
  {
   "cell_type": "code",
   "execution_count": null,
   "id": "697c08c4-e15e-4123-80bd-14a31376911a",
   "metadata": {},
   "outputs": [],
   "source": [
    "import pandas as pd\n",
    "pd.set_option('display.max_columns', None)\n",
    "from skimpy import skim"
   ]
  },
  {
   "cell_type": "code",
   "execution_count": null,
   "id": "5b25e2b1-1095-40ce-a202-34593cf8e9c5",
   "metadata": {},
   "outputs": [],
   "source": [
    "df = pd.read_csv(\"../data/movie_feb2025.csv\", engine=\"python\")\n",
    "df['popularity'] = pd.to_numeric(df['popularity'], errors='coerce')\n",
    "df.sample(n=5)"
   ]
  },
  {
   "cell_type": "code",
   "execution_count": null,
   "id": "49d31bed-b419-4a57-891d-5effb22c0ddd",
   "metadata": {},
   "outputs": [],
   "source": [
    "df['title']"
   ]
  },
  {
   "cell_type": "code",
   "execution_count": null,
   "id": "bf35caf5-69f6-426a-94f9-09afa33f7cfc",
   "metadata": {},
   "outputs": [],
   "source": [
    "df[df['adult'] != \"False\"]['adult'].value_counts()"
   ]
  },
  {
   "cell_type": "code",
   "execution_count": null,
   "id": "77a07a8c-df6f-402f-a0aa-1cc634da0a25",
   "metadata": {},
   "outputs": [],
   "source": [
    "df.info()"
   ]
  },
  {
   "cell_type": "code",
   "execution_count": null,
   "id": "9c07a4b0-c675-41f2-b808-0ab8f514d597",
   "metadata": {},
   "outputs": [],
   "source": [
    "df['visibililty'] = df['vote_average'] * df['popularity']"
   ]
  },
  {
   "cell_type": "code",
   "execution_count": null,
   "id": "f0acf8cc-b471-4d43-b0db-96f8b04f65b0",
   "metadata": {},
   "outputs": [],
   "source": [
    "df['visibililty'].describe()"
   ]
  },
  {
   "cell_type": "code",
   "execution_count": null,
   "id": "e600a751-8d58-492b-8f7f-05dc3896d633",
   "metadata": {},
   "outputs": [],
   "source": [
    "df = df.sort_values(by='visibililty', ascending=True)\n",
    "df"
   ]
  },
  {
   "cell_type": "code",
   "execution_count": null,
   "id": "b584d9ab-9719-4349-bd33-377c7a892575",
   "metadata": {},
   "outputs": [],
   "source": [
    "skim(df[['visibililty']])"
   ]
  },
  {
   "cell_type": "code",
   "execution_count": null,
   "id": "776abae4-238a-4523-aa5f-9f05421e2258",
   "metadata": {},
   "outputs": [],
   "source": [
    "df['original_language'].value_counts()"
   ]
  },
  {
   "cell_type": "code",
   "execution_count": null,
   "id": "b7924fa9-463a-475a-b87f-195b3c225743",
   "metadata": {},
   "outputs": [],
   "source": []
  },
  {
   "cell_type": "code",
   "execution_count": null,
   "id": "71987518-c0d6-4e2a-be3b-66709049fa18",
   "metadata": {},
   "outputs": [],
   "source": []
  }
 ],
 "metadata": {
  "kernelspec": {
   "display_name": "Python 3 (ipykernel)",
   "language": "python",
   "name": "python3"
  },
  "language_info": {
   "codemirror_mode": {
    "name": "ipython",
    "version": 3
   },
   "file_extension": ".py",
   "mimetype": "text/x-python",
   "name": "python",
   "nbconvert_exporter": "python",
   "pygments_lexer": "ipython3",
   "version": "3.12.9"
  }
 },
 "nbformat": 4,
 "nbformat_minor": 5
}
